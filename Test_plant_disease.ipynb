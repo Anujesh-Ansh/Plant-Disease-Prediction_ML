{
 "cells": [
  {
   "cell_type": "code",
   "execution_count": null,
   "id": "01ff2977",
   "metadata": {},
   "outputs": [],
   "source": [
    "import tensorflow as tf\n",
    "import numpy as np\n",
    "import matplotlib.pyplot as plt\n",
    "import cv2"
   ]
  },
  {
   "cell_type": "code",
   "execution_count": null,
   "id": "5f2fffba",
   "metadata": {},
   "outputs": [],
   "source": [
    "# Load the trained model\n",
    "model_path = '/Users/anujeshansh/Downloads/Plant_disease_prediction/trained_plant_disease_model.keras'\n",
    "cnn = tf.keras.models.load_model(model_path)"
   ]
  },
  {
   "cell_type": "code",
   "execution_count": null,
   "id": "e54e95f2",
   "metadata": {},
   "outputs": [],
   "source": [
    "# Define class names corresponding to your model's output\n",
    "class_names = [\n",
    "    'Apple Scab', 'Apple Black Rot', 'Cedar Apple Rust', 'Healthy Apple',\n",
    "    'Healthy Blueberry', 'Cherry Powdery Mildew', 'Healthy Cherry', 'Corn Gray Leaf Spot',\n",
    "    'Corn Common Rust', 'Corn Northern Leaf Blight', 'Healthy Corn', 'Grape Black Rot',\n",
    "    # Add all other classes as per your model training...\n",
    "]"
   ]
  },
  {
   "cell_type": "code",
   "execution_count": null,
   "id": "e54f51c9",
   "metadata": {},
   "outputs": [],
   "source": [
    "# Define remedies for diseases\n",
    "disease_remedies = {\n",
    "    'Apple Scab': \"Apply a fungicide like copper sulfate or lime sulfur.\",\n",
    "    'Apple Black Rot': \"Remove infected branches and apply a fungicide.\",\n",
    "    'Cedar Apple Rust': \"Use a fungicide such as myclobutanil and remove infected plant debris.\",\n",
    "    'Healthy Apple': \"No treatment needed.\",\n",
    "    'Healthy Blueberry': \"No treatment needed.\",\n",
    "    'Cherry Powdery Mildew': \"Use a fungicide like sulfur or potassium bicarbonate.\",\n",
    "    'Healthy Cherry': \"No treatment needed.\",\n",
    "    'Corn Gray Leaf Spot': \"Apply fungicides and practice crop rotation.\",\n",
    "    'Corn Common Rust': \"Use resistant corn varieties and apply fungicides.\",\n",
    "    'Corn Northern Leaf Blight': \"Apply fungicides and practice crop rotation.\",\n",
    "    'Healthy Corn': \"No treatment needed.\",\n",
    "    'Grape Black Rot': \"Use fungicides and remove infected plant debris.\",\n",
    "    # Add remedies for other classes as needed\n",
    "}"
   ]
  },
  {
   "cell_type": "code",
   "execution_count": null,
   "id": "186b9aed",
   "metadata": {},
   "outputs": [],
   "source": [
    "# Path to the test image\n",
    "image_path = '/Users/anujeshansh/Downloads/Plant_disease_prediction/archive/test/test/CornCommonRust3.JPG'\n"
   ]
  },
  {
   "cell_type": "code",
   "execution_count": null,
   "id": "8f1e6b57",
   "metadata": {},
   "outputs": [],
   "source": [
    "# Load and preprocess the image\n",
    "img = cv2.imread(image_path)\n",
    "img = cv2.cvtColor(img, cv2.COLOR_BGR2RGB)\n",
    "img = tf.image.resize(img, (128, 128))\n",
    "img_array = tf.keras.preprocessing.image.img_to_array(img)\n",
    "img_array = np.expand_dims(img_array, axis=0)  # Create batch axis"
   ]
  },
  {
   "cell_type": "code",
   "execution_count": null,
   "id": "6cfbf0a5",
   "metadata": {},
   "outputs": [],
   "source": [
    "\n",
    "# Make predictions\n",
    "predictions = cnn.predict(img_array)\n",
    "result_index = np.argmax(predictions[0])\n",
    "model_prediction = class_names[result_index]"
   ]
  },
  {
   "cell_type": "code",
   "execution_count": null,
   "id": "bb199cb2",
   "metadata": {},
   "outputs": [],
   "source": [
    "# Display the test image\n",
    "plt.imshow(img)\n",
    "plt.title(f\"Test Image: {model_prediction}\")\n",
    "plt.xticks([])\n",
    "plt.yticks([])\n",
    "plt.show()"
   ]
  },
  {
   "cell_type": "code",
   "execution_count": null,
   "id": "4b7b2e1b",
   "metadata": {},
   "outputs": [],
   "source": [
    "# Display the predicted disease and remedy\n",
    "remedy = disease_remedies.get(model_prediction, \"No remedy found for this plant.\")\n",
    "print(f\"Predicted disease: {model_prediction}\")\n",
    "print(f\"Recommended remedy: {remedy}\")"
   ]
  }
 ],
 "metadata": {
  "kernelspec": {
   "display_name": "Python 3 (ipykernel)",
   "language": "python",
   "name": "python3"
  },
  "language_info": {
   "codemirror_mode": {
    "name": "ipython",
    "version": 3
   },
   "file_extension": ".py",
   "mimetype": "text/x-python",
   "name": "python",
   "nbconvert_exporter": "python",
   "pygments_lexer": "ipython3",
   "version": "3.11.1"
  }
 },
 "nbformat": 4,
 "nbformat_minor": 5
}
